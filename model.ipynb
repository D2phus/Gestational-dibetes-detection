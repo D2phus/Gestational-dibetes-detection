{
 "cells": [
  {
   "cell_type": "code",
   "execution_count": 1,
   "metadata": {},
   "outputs": [],
   "source": [
    "import numpy as np\n",
    "import pandas as pd\n",
    "import matplotlib.pyplot as plt"
   ]
  },
  {
   "cell_type": "code",
   "execution_count": 2,
   "metadata": {},
   "outputs": [],
   "source": [
    "data = pd.read_csv(r'f_train.csv',encoding = 'gb2312')"
   ]
  },
  {
   "cell_type": "code",
   "execution_count": 3,
   "metadata": {},
   "outputs": [
    {
     "name": "stdout",
     "output_type": "stream",
     "text": [
      "<class 'pandas.core.frame.DataFrame'>\n",
      "RangeIndex: 1000 entries, 0 to 999\n",
      "Data columns (total 85 columns):\n",
      " #   Column                             Non-Null Count  Dtype  \n",
      "---  ------                             --------------  -----  \n",
      " 0   id                                 1000 non-null   int64  \n",
      " 1   SNP1                               1000 non-null   int64  \n",
      " 2   SNP2                               1000 non-null   int64  \n",
      " 3   SNP3                               948 non-null    float64\n",
      " 4   SNP4                               989 non-null    float64\n",
      " 5   SNP5                               935 non-null    float64\n",
      " 6   SNP6                               987 non-null    float64\n",
      " 7   SNP7                               997 non-null    float64\n",
      " 8   SNP8                               995 non-null    float64\n",
      " 9   SNP9                               995 non-null    float64\n",
      " 10  SNP10                              995 non-null    float64\n",
      " 11  SNP11                              983 non-null    float64\n",
      " 12  SNP12                              985 non-null    float64\n",
      " 13  SNP13                              978 non-null    float64\n",
      " 14  SNP14                              953 non-null    float64\n",
      " 15  SNP15                              970 non-null    float64\n",
      " 16  SNP16                              977 non-null    float64\n",
      " 17  SNP17                              974 non-null    float64\n",
      " 18  SNP18                              970 non-null    float64\n",
      " 19  SNP19                              959 non-null    float64\n",
      " 20  SNP20                              910 non-null    float64\n",
      " 21  SNP21                              461 non-null    float64\n",
      " 22  SNP22                              460 non-null    float64\n",
      " 23  SNP23                              462 non-null    float64\n",
      " 24  RBP4                               89 non-null     float64\n",
      " 25  age                                975 non-null    float64\n",
      " 26  gravidity                          802 non-null    float64\n",
      " 27  parity                             802 non-null    float64\n",
      " 28  height                             797 non-null    float64\n",
      " 29  weight before pregnancy            797 non-null    float64\n",
      " 30  BMI class                          796 non-null    float64\n",
      " 31  BMI before pregnancy               796 non-null    float64\n",
      " 32  systolic pressure                  753 non-null    float64\n",
      " 33  diastolic pressure                 754 non-null    float64\n",
      " 34  deliver time                       185 non-null    float64\n",
      " 35  Sugar screening week of pregnancy  795 non-null    float64\n",
      " 36  VAR00007                           990 non-null    float64\n",
      " 37  wbc                                887 non-null    float64\n",
      " 38  ALT                                854 non-null    float64\n",
      " 39  AST                                746 non-null    float64\n",
      " 40  Cr                                 845 non-null    float64\n",
      " 41  BUN                                844 non-null    float64\n",
      " 42  CHO                                959 non-null    float64\n",
      " 43  TG                                 959 non-null    float64\n",
      " 44  HDLC                               955 non-null    float64\n",
      " 45  LDLC                               956 non-null    float64\n",
      " 46  ApoA1                              934 non-null    float64\n",
      " 47  ApoB                               934 non-null    float64\n",
      " 48  Lpa                                934 non-null    float64\n",
      " 49  hsCRP                              925 non-null    float64\n",
      " 50  SNP24                              933 non-null    float64\n",
      " 51  SNP25                              992 non-null    float64\n",
      " 52  SNP26                              983 non-null    float64\n",
      " 53  SNP27                              987 non-null    float64\n",
      " 54  SNP28                              985 non-null    float64\n",
      " 55  SNP29                              985 non-null    float64\n",
      " 56  SNP30                              948 non-null    float64\n",
      " 57  SNP31                              952 non-null    float64\n",
      " 58  SNP32                              950 non-null    float64\n",
      " 59  SNP33                              977 non-null    float64\n",
      " 60  SNP34                              949 non-null    float64\n",
      " 61  SNP35                              969 non-null    float64\n",
      " 62  SNP36                              970 non-null    float64\n",
      " 63  SNP37                              955 non-null    float64\n",
      " 64  SNP38                              968 non-null    float64\n",
      " 65  DM family history                  700 non-null    float64\n",
      " 66  SNP39                              954 non-null    float64\n",
      " 67  SNP40                              955 non-null    float64\n",
      " 68  SNP41                              956 non-null    float64\n",
      " 69  SNP42                              962 non-null    float64\n",
      " 70  SNP43                              969 non-null    float64\n",
      " 71  SNP44                              957 non-null    float64\n",
      " 72  SNP45                              968 non-null    float64\n",
      " 73  SNP46                              929 non-null    float64\n",
      " 74  SNP47                              953 non-null    float64\n",
      " 75  SNP48                              978 non-null    float64\n",
      " 76  SNP49                              983 non-null    float64\n",
      " 77  SNP50                              981 non-null    float64\n",
      " 78  SNP51                              981 non-null    float64\n",
      " 79  SNP52                              987 non-null    float64\n",
      " 80  SNP53                              956 non-null    float64\n",
      " 81  SNP54                              483 non-null    float64\n",
      " 82  SNP55                              483 non-null    float64\n",
      " 83  ACEID                              483 non-null    float64\n",
      " 84  label                              1000 non-null   int64  \n",
      "dtypes: float64(81), int64(4)\n",
      "memory usage: 664.2 KB\n"
     ]
    }
   ],
   "source": [
    "data.info()"
   ]
  },
  {
   "cell_type": "code",
   "execution_count": 4,
   "metadata": {},
   "outputs": [],
   "source": [
    "### data preprocessing\n",
    "# for most features: fill the missing value with median\n",
    "cols = data.columns.values\n",
    "for col in cols:\n",
    "    if((col!='RBP4')\n",
    "      and(col!='deliver time')):\n",
    "        data[col] = data[col].fillna(data[col].median())\n",
    "# for features missing too much: fill missing value with zero\n",
    "data['RBP4'] = data['RBP4'].fillna(0)\n",
    "data['deliver time'] = data['deliver time'].fillna(0)"
   ]
  },
  {
   "cell_type": "code",
   "execution_count": 5,
   "metadata": {},
   "outputs": [
    {
     "name": "stdout",
     "output_type": "stream",
     "text": [
      "<class 'pandas.core.frame.DataFrame'>\n",
      "RangeIndex: 1000 entries, 0 to 999\n",
      "Data columns (total 84 columns):\n",
      " #   Column                             Non-Null Count  Dtype  \n",
      "---  ------                             --------------  -----  \n",
      " 0   SNP1                               1000 non-null   int64  \n",
      " 1   SNP2                               1000 non-null   int64  \n",
      " 2   SNP3                               1000 non-null   float64\n",
      " 3   SNP4                               1000 non-null   float64\n",
      " 4   SNP5                               1000 non-null   float64\n",
      " 5   SNP6                               1000 non-null   float64\n",
      " 6   SNP7                               1000 non-null   float64\n",
      " 7   SNP8                               1000 non-null   float64\n",
      " 8   SNP9                               1000 non-null   float64\n",
      " 9   SNP10                              1000 non-null   float64\n",
      " 10  SNP11                              1000 non-null   float64\n",
      " 11  SNP12                              1000 non-null   float64\n",
      " 12  SNP13                              1000 non-null   float64\n",
      " 13  SNP14                              1000 non-null   float64\n",
      " 14  SNP15                              1000 non-null   float64\n",
      " 15  SNP16                              1000 non-null   float64\n",
      " 16  SNP17                              1000 non-null   float64\n",
      " 17  SNP18                              1000 non-null   float64\n",
      " 18  SNP19                              1000 non-null   float64\n",
      " 19  SNP20                              1000 non-null   float64\n",
      " 20  SNP21                              1000 non-null   float64\n",
      " 21  SNP22                              1000 non-null   float64\n",
      " 22  SNP23                              1000 non-null   float64\n",
      " 23  RBP4                               1000 non-null   float64\n",
      " 24  age                                1000 non-null   float64\n",
      " 25  gravidity                          1000 non-null   float64\n",
      " 26  parity                             1000 non-null   float64\n",
      " 27  height                             1000 non-null   float64\n",
      " 28  weight before pregnancy            1000 non-null   float64\n",
      " 29  BMI class                          1000 non-null   float64\n",
      " 30  BMI before pregnancy               1000 non-null   float64\n",
      " 31  systolic pressure                  1000 non-null   float64\n",
      " 32  diastolic pressure                 1000 non-null   float64\n",
      " 33  deliver time                       1000 non-null   float64\n",
      " 34  Sugar screening week of pregnancy  1000 non-null   float64\n",
      " 35  VAR00007                           1000 non-null   float64\n",
      " 36  wbc                                1000 non-null   float64\n",
      " 37  ALT                                1000 non-null   float64\n",
      " 38  AST                                1000 non-null   float64\n",
      " 39  Cr                                 1000 non-null   float64\n",
      " 40  BUN                                1000 non-null   float64\n",
      " 41  CHO                                1000 non-null   float64\n",
      " 42  TG                                 1000 non-null   float64\n",
      " 43  HDLC                               1000 non-null   float64\n",
      " 44  LDLC                               1000 non-null   float64\n",
      " 45  ApoA1                              1000 non-null   float64\n",
      " 46  ApoB                               1000 non-null   float64\n",
      " 47  Lpa                                1000 non-null   float64\n",
      " 48  hsCRP                              1000 non-null   float64\n",
      " 49  SNP24                              1000 non-null   float64\n",
      " 50  SNP25                              1000 non-null   float64\n",
      " 51  SNP26                              1000 non-null   float64\n",
      " 52  SNP27                              1000 non-null   float64\n",
      " 53  SNP28                              1000 non-null   float64\n",
      " 54  SNP29                              1000 non-null   float64\n",
      " 55  SNP30                              1000 non-null   float64\n",
      " 56  SNP31                              1000 non-null   float64\n",
      " 57  SNP32                              1000 non-null   float64\n",
      " 58  SNP33                              1000 non-null   float64\n",
      " 59  SNP34                              1000 non-null   float64\n",
      " 60  SNP35                              1000 non-null   float64\n",
      " 61  SNP36                              1000 non-null   float64\n",
      " 62  SNP37                              1000 non-null   float64\n",
      " 63  SNP38                              1000 non-null   float64\n",
      " 64  DM family history                  1000 non-null   float64\n",
      " 65  SNP39                              1000 non-null   float64\n",
      " 66  SNP40                              1000 non-null   float64\n",
      " 67  SNP41                              1000 non-null   float64\n",
      " 68  SNP42                              1000 non-null   float64\n",
      " 69  SNP43                              1000 non-null   float64\n",
      " 70  SNP44                              1000 non-null   float64\n",
      " 71  SNP45                              1000 non-null   float64\n",
      " 72  SNP46                              1000 non-null   float64\n",
      " 73  SNP47                              1000 non-null   float64\n",
      " 74  SNP48                              1000 non-null   float64\n",
      " 75  SNP49                              1000 non-null   float64\n",
      " 76  SNP50                              1000 non-null   float64\n",
      " 77  SNP51                              1000 non-null   float64\n",
      " 78  SNP52                              1000 non-null   float64\n",
      " 79  SNP53                              1000 non-null   float64\n",
      " 80  SNP54                              1000 non-null   float64\n",
      " 81  SNP55                              1000 non-null   float64\n",
      " 82  ACEID                              1000 non-null   float64\n",
      " 83  label                              1000 non-null   int64  \n",
      "dtypes: float64(81), int64(3)\n",
      "memory usage: 656.4 KB\n"
     ]
    }
   ],
   "source": [
    "#### feature engineering\n",
    "data = data.drop(['id'], axis=1)\n",
    "# remove features with zero std\n",
    "remove = []\n",
    "for column in data.columns:\n",
    "    if data[column].std()==0:\n",
    "        remove.append(column)\n",
    "data = data.drop(remove, axis=1)\n",
    "# remove abnormal features \n",
    "unique = []\n",
    "for column in data.columns:\n",
    "    num = len(data[column].unique())\n",
    "    if data[column].isnull().sum()!=0:\n",
    "        num -= 1\n",
    "    if num == 1:\n",
    "        unique.append(column)\n",
    "data = data.drop(unique, axis=1)\n",
    "data.info()"
   ]
  },
  {
   "cell_type": "code",
   "execution_count": 6,
   "metadata": {},
   "outputs": [],
   "source": [
    "# filter high correlation\n",
    "pd.set_option('display.max_rows', None)\n",
    "corr_matrix = data.corr()\n",
    "corr_matrix = corr_matrix['label'].sort_values(ascending=False)"
   ]
  },
  {
   "cell_type": "code",
   "execution_count": 7,
   "metadata": {},
   "outputs": [],
   "source": [
    "pos_corr = list(corr_matrix[1:20].index)\n",
    "neg_corr = list(corr_matrix[-15:].index)\n",
    "cols = data.columns.values\n",
    "for col in cols:\n",
    "    if((col not in pos_corr) and(col not in neg_corr) and (col!='label')):\n",
    "        data = data.drop(col, axis=1)"
   ]
  },
  {
   "cell_type": "code",
   "execution_count": 8,
   "metadata": {},
   "outputs": [
    {
     "data": {
      "text/plain": [
       "<AxesSubplot:xlabel='VAR00007'>"
      ]
     },
     "execution_count": 8,
     "metadata": {},
     "output_type": "execute_result"
    },
    {
     "data": {
      "image/png": "[encoded data removed]",
      "text/plain": [
       "<Figure size 432x288 with 1 Axes>"
      ]
     },
     "metadata": {
      "needs_background": "light"
     },
     "output_type": "display_data"
    }
   ],
   "source": [
    "# examples about the relation between features and label\n",
    "pd.crosstab(data.VAR00007,data.label).plot.bar(stacked = True)"
   ]
  },
  {
   "cell_type": "code",
   "execution_count": 9,
   "metadata": {},
   "outputs": [
    {
     "data": {
      "text/plain": [
       "1.0    541\n",
       "2.0    319\n",
       "3.0    140\n",
       "Name: SNP34, dtype: int64"
      ]
     },
     "execution_count": 9,
     "metadata": {},
     "output_type": "execute_result"
    }
   ],
   "source": [
    "data['SNP34'].value_counts()"
   ]
  },
  {
   "cell_type": "code",
   "execution_count": 10,
   "metadata": {},
   "outputs": [
    {
     "data": {
      "text/plain": [
       "1.0    802\n",
       "2.0    150\n",
       "3.0     48\n",
       "Name: SNP37, dtype: int64"
      ]
     },
     "execution_count": 10,
     "metadata": {},
     "output_type": "execute_result"
    }
   ],
   "source": [
    "data['SNP37'].value_counts()"
   ]
  },
  {
   "cell_type": "code",
   "execution_count": 11,
   "metadata": {},
   "outputs": [
    {
     "name": "stdout",
     "output_type": "stream",
     "text": [
      "<class 'pandas.core.frame.DataFrame'>\n",
      "RangeIndex: 1000 entries, 0 to 999\n",
      "Data columns (total 37 columns):\n",
      " #   Column                   Non-Null Count  Dtype  \n",
      "---  ------                   --------------  -----  \n",
      " 0   SNP10                    1000 non-null   float64\n",
      " 1   SNP13                    1000 non-null   float64\n",
      " 2   SNP17                    1000 non-null   float64\n",
      " 3   SNP18                    1000 non-null   float64\n",
      " 4   SNP19                    1000 non-null   float64\n",
      " 5   SNP22                    1000 non-null   float64\n",
      " 6   RBP4                     1000 non-null   float64\n",
      " 7   age                      1000 non-null   float64\n",
      " 8   gravidity                1000 non-null   float64\n",
      " 9   parity                   1000 non-null   float64\n",
      " 10  height                   1000 non-null   float64\n",
      " 11  weight before pregnancy  1000 non-null   float64\n",
      " 12  BMI class                1000 non-null   float64\n",
      " 13  BMI before pregnancy     1000 non-null   float64\n",
      " 14  systolic pressure        1000 non-null   float64\n",
      " 15  diastolic pressure       1000 non-null   float64\n",
      " 16  deliver time             1000 non-null   float64\n",
      " 17  VAR00007                 1000 non-null   float64\n",
      " 18  wbc                      1000 non-null   float64\n",
      " 19  ALT                      1000 non-null   float64\n",
      " 20  TG                       1000 non-null   float64\n",
      " 21  hsCRP                    1000 non-null   float64\n",
      " 22  SNP28                    1000 non-null   float64\n",
      " 23  SNP29                    1000 non-null   float64\n",
      " 24  SNP34                    1000 non-null   float64\n",
      " 25  SNP37                    1000 non-null   float64\n",
      " 26  DM family history        1000 non-null   float64\n",
      " 27  SNP39                    1000 non-null   float64\n",
      " 28  SNP41                    1000 non-null   float64\n",
      " 29  SNP43                    1000 non-null   float64\n",
      " 30  SNP46                    1000 non-null   float64\n",
      " 31  SNP48                    1000 non-null   float64\n",
      " 32  SNP52                    1000 non-null   float64\n",
      " 33  SNP53                    1000 non-null   float64\n",
      " 34  label                    1000 non-null   int64  \n",
      " 35  fat                      1000 non-null   float64\n",
      " 36  blood pressure           1000 non-null   float64\n",
      "dtypes: float64(36), int64(1)\n",
      "memory usage: 289.2 KB\n"
     ]
    }
   ],
   "source": [
    "data['fat'] = data['BMI before pregnancy']+data['weight before pregnancy']+data['TG']\n",
    "data['blood pressure'] = data['systolic pressure']+data['diastolic pressure']\n",
    "data.info()"
   ]
  },
  {
   "cell_type": "code",
   "execution_count": 13,
   "metadata": {},
   "outputs": [
    {
     "name": "stdout",
     "output_type": "stream",
     "text": [
      "logistic regression f1 score:  0.667\n",
      "svm f1 score: 0.524\n",
      "naive bayes classifer f1 score: 0.633\n",
      "decision tree classifer f1 score: 0.601\n",
      "random forest classifier f1 score:  0.674\n"
     ]
    }
   ],
   "source": [
    "from sklearn.model_selection import cross_val_score\n",
    "from sklearn.model_selection import GridSearchCV\n",
    "from sklearn.model_selection import KFold\n",
    "from sklearn.metrics import f1_score\n",
    "from sklearn.ensemble import RandomForestClassifier\n",
    "from sklearn.linear_model import LogisticRegression\n",
    "from sklearn.svm import SVC\n",
    "from sklearn.tree import DecisionTreeClassifier\n",
    "from sklearn.naive_bayes import GaussianNB\n",
    "# as the dataset in this experiment is small, we adapt 5-fold cross validation\n",
    "# selected model: random forest\n",
    "# model for comparison: logistic regression, svm, decision tree, naive bayes\n",
    "\n",
    "# for random forest\n",
    "gsrf_score_sum = 0\n",
    "gsrf_best_score = 0\n",
    "global gsrf, best_gsrf \n",
    "# for logistic regression\n",
    "lr_score_sum = 0\n",
    "lr_best_score = 0\n",
    "global gslr, best_gslr\n",
    "# for svm\n",
    "svm_score_sum = 0\n",
    "svm_best_score = 0\n",
    "global svm, best_svm\n",
    "# for decision tree\n",
    "dt_score_sum = 0\n",
    "dt_best_score = 0\n",
    "global dt, best_dt\n",
    "# for naive_bayes\n",
    "gnb_score_sum = 0\n",
    "gnb_best_score = 0\n",
    "global gnb, best_gnb\n",
    "# compare the performace of random forest classifer, logistic regression, svm, decision tree, and naive_bayes without fine-tune\n",
    "kf =KFold(n_splits=5)\n",
    "for train_index, test_index in kf.split(data):\n",
    "    train, test = data.iloc[train_index], data.iloc[test_index]\n",
    "    x_train = train.drop(['label'], axis=1)\n",
    "    y_train = train['label']\n",
    "    x_test = test.drop(['label'], axis=1)\n",
    "    y_test = test['label']\n",
    "    # for random forest\n",
    "    gsrf = RandomForestClassifier(random_state=1)\n",
    "    gsrf.fit(x_train,y_train)\n",
    "    y_predict = gsrf.predict(x_test)\n",
    "    score = f1_score(y_test, y_predict, average='micro')\n",
    "    if score > gsrf_best_score: \n",
    "        gsrf_best_score = score\n",
    "        best_gsrf = gsrf\n",
    "    gsrf_score_sum = gsrf_score_sum + score\n",
    "    # for logistic regression\n",
    "    lr = LogisticRegression(penalty='l2', max_iter=10000)\n",
    "    lr.fit(x_train, y_train)\n",
    "    y_predict = lr.predict(x_test)\n",
    "    score = f1_score(y_test, y_predict, average='micro')\n",
    "    if score > lr_best_score: \n",
    "        lr_best_score = score\n",
    "        best_lr = lr\n",
    "    lr_score_sum = lr_score_sum + score\n",
    "    # for svm\n",
    "    svm = SVC()\n",
    "    svm.fit(x_train, y_train)\n",
    "    y_predict = svm.predict(x_test)\n",
    "    score = f1_score(y_test, y_predict, average='micro')\n",
    "    if score > svm_best_score: \n",
    "        svm_best_score = score\n",
    "        best_svm = svm\n",
    "    svm_score_sum = svm_score_sum + score\n",
    "    # for decision tree\n",
    "    dt = DecisionTreeClassifier(random_state=1)\n",
    "    dt.fit(x_train, y_train)\n",
    "    y_predict = dt.predict(x_test)\n",
    "    score = f1_score(y_test, y_predict, average='micro')\n",
    "    if score > dt_best_score:\n",
    "        best_dt_score = score\n",
    "        best_dt = dt\n",
    "    dt_score_sum = dt_score_sum + score\n",
    "    # for naive_bayes \n",
    "    gnb = GaussianNB()\n",
    "    gnb.fit(x_train, y_train)\n",
    "    y_predict = gnb.predict(x_test)\n",
    "    score = f1_score(y_test, y_predict, average='micro')\n",
    "    if score > gnb_best_score:\n",
    "        best_gnb_score = score\n",
    "        best_gnb = gnb\n",
    "    gnb_score_sum = gnb_score_sum + score\n",
    "gsrf_score_sum/=5\n",
    "lr_score_sum/=5\n",
    "svm_score_sum/=5\n",
    "dt_score_sum/=5\n",
    "gnb_score_sum/=5\n",
    "print('logistic regression f1 score: ', lr_score_sum)\n",
    "print('svm f1 score:', svm_score_sum)\n",
    "print('naive bayes classifer f1 score:', gnb_score_sum)\n",
    "print('decision tree classifer f1 score:', dt_score_sum)\n",
    "print('random forest classifier f1 score: ', gsrf_score_sum)"
   ]
  },
  {
   "cell_type": "code",
   "execution_count": 14,
   "metadata": {},
   "outputs": [
    {
     "name": "stdout",
     "output_type": "stream",
     "text": [
      "{'criterion': 'gini', 'max_depth': 3, 'n_estimators': 150}\n",
      "0.705\n",
      "{'criterion': 'entropy', 'max_depth': 3, 'n_estimators': 100}\n",
      "0.675\n",
      "{'criterion': 'entropy', 'max_depth': 3, 'n_estimators': 50}\n",
      "0.715\n",
      "{'criterion': 'gini', 'max_depth': 3, 'n_estimators': 10}\n",
      "0.665\n",
      "{'criterion': 'gini', 'max_depth': 9, 'n_estimators': 50}\n",
      "0.645\n",
      "random forest classfier f1 score after fine tuning:  0.6809999999999999\n"
     ]
    }
   ],
   "source": [
    "# random forest classifer shows the best performance\n",
    "# do fine tuning with grid search \n",
    "gsrf_score_sum = 0\n",
    "gsrf_best_score = 0\n",
    "kf =KFold(n_splits=5)\n",
    "for train_index, test_index in kf.split(data):\n",
    "    train, test = data.iloc[train_index], data.iloc[test_index]\n",
    "    x_train = train.drop(['label'], axis=1)\n",
    "    y_train = train['label']\n",
    "    x_test = test.drop(['label'], axis=1)\n",
    "    y_test = test['label']\n",
    "    # for random forest\n",
    "    rf = RandomForestClassifier(random_state=1)\n",
    "    prf = [{'n_estimators':[10,50,100,150],'max_depth':[3,6,9,12],'criterion':['gini','entropy']}]\n",
    "    gsrf = GridSearchCV(estimator = rf, param_grid = prf,scoring = 'accuracy',cv = 2)\n",
    "    gsrf.fit(x_train,y_train)\n",
    "    print(gsrf.best_params_)\n",
    "    y_predict = gsrf.predict(x_test)\n",
    "    score = f1_score(y_test, y_predict, average='micro')\n",
    "    print(score)\n",
    "    if score > gsrf_best_score: \n",
    "        gsrf_best_score = score\n",
    "        best_gsrf = gsrf\n",
    "    gsrf_score_sum = gsrf_score_sum + score\n",
    "gsrf_score_sum/=5\n",
    "print('random forest classfier f1 score after fine tuning: ', gsrf_score_sum)"
   ]
  },
  {
   "cell_type": "code",
   "execution_count": null,
   "metadata": {},
   "outputs": [],
   "source": []
  }
 ],
 "metadata": {
  "kernelspec": {
   "display_name": "Python 3",
   "language": "python",
   "name": "python3"
  },
  "language_info": {
   "codemirror_mode": {
    "name": "ipython",
    "version": 3
   },
   "file_extension": ".py",
   "mimetype": "text/x-python",
   "name": "python",
   "nbconvert_exporter": "python",
   "pygments_lexer": "ipython3",
   "version": "3.8.4"
  }
 },
 "nbformat": 4,
 "nbformat_minor": 4
}
